{
 "cells": [
  {
   "cell_type": "markdown",
   "id": "bfda2e2d",
   "metadata": {},
   "source": [
    "Let's use what we've learned to play a mage duel!\n",
    "\n",
    "Imagine your wizard has 6d4 health points and you have spells that do 6d4 damage. \"6d4\" means rolling six 4-sided dice and summing the result.\n",
    "\n",
    "Your opposing mage has 4d6 health points and spells that do 4d6. \"4d6\" means rolling four six-sided dice and summing the result.\n",
    "\n",
    "Exercises\n",
    "Simulate mage duels to answer who is the more powerful mage?\n",
    "\n",
    "Before running simulations, do you have a hypothesis of which mage will win? Do you have a hunch? Write it down. This is your first exercise.\n",
    "Simulate 10 mage duels. Is there a clear winner? Run that 10 duel simulation again. Was the answer similar?\n",
    "Do the results change much at 100 duels?\n",
    "Now, simulate 10,000 mage duels. Is there a clear winner?"
   ]
  },
  {
   "cell_type": "code",
   "execution_count": 4,
   "id": "a75b2ec6",
   "metadata": {},
   "outputs": [],
   "source": [
    "import numpy as np\n",
    "import pandas as pd\n",
    "\n",
    "np.random.seed(7)"
   ]
  },
  {
   "cell_type": "code",
   "execution_count": 6,
   "id": "d28a5010",
   "metadata": {},
   "outputs": [],
   "source": [
    "mage1_health = np.random.choice(np.arange(6,24), size = (10_000,10))\n",
    "mage2_health = np.random.choice(np.arange(6,24), size = (10_000,10))\n",
    "\n",
    "#duel = np.random.choice((np.arange(6,24) - np.arange(4,24)))"
   ]
  },
  {
   "cell_type": "code",
   "execution_count": 7,
   "id": "b7588351",
   "metadata": {},
   "outputs": [
    {
     "data": {
      "text/plain": [
       "array([[21,  8, 16, ..., 11, 10, 12],\n",
       "       [ 9, 21,  6, ...,  9, 23,  9],\n",
       "       [10, 18, 21, ..., 16,  7,  8],\n",
       "       ...,\n",
       "       [12,  8, 20, ..., 23,  8,  7],\n",
       "       [11,  9,  9, ..., 16,  8,  7],\n",
       "       [18,  8, 19, ..., 19, 23, 17]])"
      ]
     },
     "execution_count": 7,
     "metadata": {},
     "output_type": "execute_result"
    }
   ],
   "source": [
    "mage1_health"
   ]
  },
  {
   "cell_type": "code",
   "execution_count": 8,
   "id": "62bc065b",
   "metadata": {},
   "outputs": [
    {
     "data": {
      "text/plain": [
       "array([[ 7, 18,  8, ..., 15, 11, 22],\n",
       "       [ 6,  6, 18, ..., 17, 13, 11],\n",
       "       [18,  8, 20, ..., 22, 15, 11],\n",
       "       ...,\n",
       "       [21, 22,  7, ..., 17, 15,  9],\n",
       "       [10, 22,  8, ..., 12, 23, 15],\n",
       "       [15,  6, 22, ..., 14, 21,  9]])"
      ]
     },
     "execution_count": 8,
     "metadata": {},
     "output_type": "execute_result"
    }
   ],
   "source": [
    "mage2_health"
   ]
  },
  {
   "cell_type": "code",
   "execution_count": null,
   "id": "52fb4953",
   "metadata": {},
   "outputs": [],
   "source": [
    "np.random.choice(np.arange(4,24))"
   ]
  },
  {
   "cell_type": "code",
   "execution_count": null,
   "id": "90516595",
   "metadata": {},
   "outputs": [],
   "source": [
    "duel = np.random.choice( (np.arange(mage1)))"
   ]
  }
 ],
 "metadata": {
  "kernelspec": {
   "display_name": "Python 3",
   "language": "python",
   "name": "python3"
  },
  "language_info": {
   "codemirror_mode": {
    "name": "ipython",
    "version": 3
   },
   "file_extension": ".py",
   "mimetype": "text/x-python",
   "name": "python",
   "nbconvert_exporter": "python",
   "pygments_lexer": "ipython3",
   "version": "3.8.8"
  }
 },
 "nbformat": 4,
 "nbformat_minor": 5
}
