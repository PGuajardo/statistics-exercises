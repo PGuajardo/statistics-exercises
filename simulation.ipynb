{
 "cells": [
  {
   "cell_type": "code",
   "execution_count": null,
   "id": "ef39e6c2",
   "metadata": {},
   "outputs": [],
   "source": [
    "How likely is it that you roll doubles when rolling two dice?\n",
    "\n",
    "\n",
    "\n",
    "\n",
    "\n",
    "\n",
    "\n"
   ]
  },
  {
   "cell_type": "code",
   "execution_count": 63,
   "id": "27875630",
   "metadata": {},
   "outputs": [],
   "source": [
    "import numpy as np\n",
    "import pandas as pd\n",
    "\n",
    "np.random.seed(7)"
   ]
  },
  {
   "cell_type": "code",
   "execution_count": 10,
   "id": "2851f635",
   "metadata": {},
   "outputs": [],
   "source": [
    "n_trials = nrows = 10_000\n",
    "n_dice = ncols = 2\n",
    "\n",
    "#die1 = np.random.choice([1, 2, 3, 4, 5, 6], n_trials * n_dice).reshape(nrows, ncols)\n",
    "#die2 = np.random.choice([1, 2, 3, 4, 5, 6], n_trials * n_dice).reshape(nrows, ncols)\n",
    "\n",
    "die1 = np.random.choice([1, 2, 3, 4, 5, 6], 10_000)\n",
    "die2 = np.random.choice([1, 2, 3, 4, 5, 6], 10_000)"
   ]
  },
  {
   "cell_type": "code",
   "execution_count": 11,
   "id": "f27bd422",
   "metadata": {},
   "outputs": [
    {
     "data": {
      "text/plain": [
       "array([6, 3, 1, ..., 5, 4, 6])"
      ]
     },
     "execution_count": 11,
     "metadata": {},
     "output_type": "execute_result"
    }
   ],
   "source": [
    "die1"
   ]
  },
  {
   "cell_type": "code",
   "execution_count": 12,
   "id": "77bae6b7",
   "metadata": {},
   "outputs": [],
   "source": [
    "samsies = die1 == die2"
   ]
  },
  {
   "cell_type": "code",
   "execution_count": 13,
   "id": "ac0a2dc3",
   "metadata": {},
   "outputs": [
    {
     "data": {
      "text/plain": [
       "array([ True, False, False, ..., False, False, False])"
      ]
     },
     "execution_count": 13,
     "metadata": {},
     "output_type": "execute_result"
    }
   ],
   "source": [
    "samsies"
   ]
  },
  {
   "cell_type": "code",
   "execution_count": 14,
   "id": "3ab996d6",
   "metadata": {},
   "outputs": [
    {
     "data": {
      "text/plain": [
       "0.17"
      ]
     },
     "execution_count": 14,
     "metadata": {},
     "output_type": "execute_result"
    }
   ],
   "source": [
    "samsies.mean()"
   ]
  },
  {
   "cell_type": "code",
   "execution_count": null,
   "id": "1856109d",
   "metadata": {},
   "outputs": [],
   "source": [
    "#If you flip 8 coins, what is the probability of getting exactly 3 heads? \n",
    "# What is the probability of getting more than 3 heads?"
   ]
  },
  {
   "cell_type": "code",
   "execution_count": 15,
   "id": "daacb71a",
   "metadata": {},
   "outputs": [
    {
     "data": {
      "text/plain": [
       "array([[0, 0, 1, ..., 1, 1, 0],\n",
       "       [0, 0, 0, ..., 1, 0, 0],\n",
       "       [0, 1, 0, ..., 1, 0, 1],\n",
       "       ...,\n",
       "       [0, 1, 0, ..., 0, 0, 0],\n",
       "       [1, 0, 1, ..., 0, 1, 1],\n",
       "       [0, 1, 1, ..., 1, 1, 1]])"
      ]
     },
     "execution_count": 15,
     "metadata": {},
     "output_type": "execute_result"
    }
   ],
   "source": [
    "n_trials = nrows = 10_000\n",
    "n_coin = ncols = 8\n",
    "coin = np.random.choice([0, 1], n_trials * n_coin).reshape(nrows, ncols)\n",
    "\n",
    "coin"
   ]
  },
  {
   "cell_type": "code",
   "execution_count": 18,
   "id": "b0c8dbb4",
   "metadata": {},
   "outputs": [
    {
     "data": {
      "text/plain": [
       "array([5, 2, 3, ..., 3, 6, 7])"
      ]
     },
     "execution_count": 18,
     "metadata": {},
     "output_type": "execute_result"
    }
   ],
   "source": [
    "head_3 = coin.sum(axis=1)\n",
    "head_3"
   ]
  },
  {
   "cell_type": "code",
   "execution_count": 19,
   "id": "5e96ddf3",
   "metadata": {},
   "outputs": [
    {
     "data": {
      "text/plain": [
       "array([False, False,  True, ...,  True, False, False])"
      ]
     },
     "execution_count": 19,
     "metadata": {},
     "output_type": "execute_result"
    }
   ],
   "source": [
    "flip_coin = head_3 == 3\n",
    "flip_coin"
   ]
  },
  {
   "cell_type": "code",
   "execution_count": 20,
   "id": "52e7d1c4",
   "metadata": {},
   "outputs": [
    {
     "data": {
      "text/plain": [
       "0.2192"
      ]
     },
     "execution_count": 20,
     "metadata": {},
     "output_type": "execute_result"
    }
   ],
   "source": [
    "flip_coin.mean()"
   ]
  },
  {
   "cell_type": "code",
   "execution_count": 21,
   "id": "b671ca2a",
   "metadata": {},
   "outputs": [],
   "source": [
    "# There are approximitely 3 web development cohorts for every 1 data science cohort at Codeup. \n",
    "# Assuming that Codeup randomly selects an alumni to put on a billboard, \n",
    "# what are the odds that the two billboards I drive past both have data science students on them?"
   ]
  },
  {
   "cell_type": "code",
   "execution_count": 36,
   "id": "69d08485",
   "metadata": {},
   "outputs": [
    {
     "data": {
      "text/plain": [
       "array([['Web', 'Web'],\n",
       "       ['Web', 'Web'],\n",
       "       ['Data', 'Data'],\n",
       "       ...,\n",
       "       ['Web', 'Web'],\n",
       "       ['Web', 'Web'],\n",
       "       ['Data', 'Web']], dtype='<U4')"
      ]
     },
     "execution_count": 36,
     "metadata": {},
     "output_type": "execute_result"
    }
   ],
   "source": [
    "n_trials = nrows = 10_000\n",
    "n_billboard = ncols = 2\n",
    "\n",
    "cohorts = np.random.choice([\"Web\", \"Web\", \"Web\", \"Data\"], n_trials * n_billboard).reshape(nrows, ncols)\n",
    "cohorts"
   ]
  },
  {
   "cell_type": "code",
   "execution_count": 37,
   "id": "2341ed2a",
   "metadata": {},
   "outputs": [
    {
     "data": {
      "text/html": [
       "<div>\n",
       "<style scoped>\n",
       "    .dataframe tbody tr th:only-of-type {\n",
       "        vertical-align: middle;\n",
       "    }\n",
       "\n",
       "    .dataframe tbody tr th {\n",
       "        vertical-align: top;\n",
       "    }\n",
       "\n",
       "    .dataframe thead th {\n",
       "        text-align: right;\n",
       "    }\n",
       "</style>\n",
       "<table border=\"1\" class=\"dataframe\">\n",
       "  <thead>\n",
       "    <tr style=\"text-align: right;\">\n",
       "      <th></th>\n",
       "      <th>billboard_1</th>\n",
       "      <th>billboard_2</th>\n",
       "    </tr>\n",
       "  </thead>\n",
       "  <tbody>\n",
       "    <tr>\n",
       "      <th>0</th>\n",
       "      <td>Web</td>\n",
       "      <td>Web</td>\n",
       "    </tr>\n",
       "    <tr>\n",
       "      <th>1</th>\n",
       "      <td>Web</td>\n",
       "      <td>Web</td>\n",
       "    </tr>\n",
       "    <tr>\n",
       "      <th>2</th>\n",
       "      <td>Data</td>\n",
       "      <td>Data</td>\n",
       "    </tr>\n",
       "    <tr>\n",
       "      <th>3</th>\n",
       "      <td>Data</td>\n",
       "      <td>Web</td>\n",
       "    </tr>\n",
       "    <tr>\n",
       "      <th>4</th>\n",
       "      <td>Web</td>\n",
       "      <td>Web</td>\n",
       "    </tr>\n",
       "  </tbody>\n",
       "</table>\n",
       "</div>"
      ],
      "text/plain": [
       "  billboard_1 billboard_2\n",
       "0         Web         Web\n",
       "1         Web         Web\n",
       "2        Data        Data\n",
       "3        Data         Web\n",
       "4         Web         Web"
      ]
     },
     "execution_count": 37,
     "metadata": {},
     "output_type": "execute_result"
    }
   ],
   "source": [
    "cohorts = pd.DataFrame(cohorts, columns=[\"billboard_1\", \"billboard_2\"])\n",
    "cohorts.head()"
   ]
  },
  {
   "cell_type": "code",
   "execution_count": 44,
   "id": "cfc56c9c",
   "metadata": {},
   "outputs": [],
   "source": [
    "def count_data(row):\n",
    "    return row.billboard_1.count(\"Data\") + row.billboard_2.count(\"Data\")"
   ]
  },
  {
   "cell_type": "code",
   "execution_count": 47,
   "id": "922e9025",
   "metadata": {},
   "outputs": [
    {
     "data": {
      "text/html": [
       "<div>\n",
       "<style scoped>\n",
       "    .dataframe tbody tr th:only-of-type {\n",
       "        vertical-align: middle;\n",
       "    }\n",
       "\n",
       "    .dataframe tbody tr th {\n",
       "        vertical-align: top;\n",
       "    }\n",
       "\n",
       "    .dataframe thead th {\n",
       "        text-align: right;\n",
       "    }\n",
       "</style>\n",
       "<table border=\"1\" class=\"dataframe\">\n",
       "  <thead>\n",
       "    <tr style=\"text-align: right;\">\n",
       "      <th></th>\n",
       "      <th>billboard_1</th>\n",
       "      <th>billboard_2</th>\n",
       "      <th>Web_Counts</th>\n",
       "      <th>Data_counts</th>\n",
       "    </tr>\n",
       "  </thead>\n",
       "  <tbody>\n",
       "    <tr>\n",
       "      <th>0</th>\n",
       "      <td>Web</td>\n",
       "      <td>Web</td>\n",
       "      <td>0</td>\n",
       "      <td>0</td>\n",
       "    </tr>\n",
       "    <tr>\n",
       "      <th>1</th>\n",
       "      <td>Web</td>\n",
       "      <td>Web</td>\n",
       "      <td>0</td>\n",
       "      <td>0</td>\n",
       "    </tr>\n",
       "    <tr>\n",
       "      <th>2</th>\n",
       "      <td>Data</td>\n",
       "      <td>Data</td>\n",
       "      <td>2</td>\n",
       "      <td>2</td>\n",
       "    </tr>\n",
       "    <tr>\n",
       "      <th>3</th>\n",
       "      <td>Data</td>\n",
       "      <td>Web</td>\n",
       "      <td>1</td>\n",
       "      <td>1</td>\n",
       "    </tr>\n",
       "    <tr>\n",
       "      <th>4</th>\n",
       "      <td>Web</td>\n",
       "      <td>Web</td>\n",
       "      <td>0</td>\n",
       "      <td>0</td>\n",
       "    </tr>\n",
       "    <tr>\n",
       "      <th>...</th>\n",
       "      <td>...</td>\n",
       "      <td>...</td>\n",
       "      <td>...</td>\n",
       "      <td>...</td>\n",
       "    </tr>\n",
       "    <tr>\n",
       "      <th>9995</th>\n",
       "      <td>Web</td>\n",
       "      <td>Web</td>\n",
       "      <td>0</td>\n",
       "      <td>0</td>\n",
       "    </tr>\n",
       "    <tr>\n",
       "      <th>9996</th>\n",
       "      <td>Data</td>\n",
       "      <td>Web</td>\n",
       "      <td>1</td>\n",
       "      <td>1</td>\n",
       "    </tr>\n",
       "    <tr>\n",
       "      <th>9997</th>\n",
       "      <td>Web</td>\n",
       "      <td>Web</td>\n",
       "      <td>0</td>\n",
       "      <td>0</td>\n",
       "    </tr>\n",
       "    <tr>\n",
       "      <th>9998</th>\n",
       "      <td>Web</td>\n",
       "      <td>Web</td>\n",
       "      <td>0</td>\n",
       "      <td>0</td>\n",
       "    </tr>\n",
       "    <tr>\n",
       "      <th>9999</th>\n",
       "      <td>Data</td>\n",
       "      <td>Web</td>\n",
       "      <td>1</td>\n",
       "      <td>1</td>\n",
       "    </tr>\n",
       "  </tbody>\n",
       "</table>\n",
       "<p>10000 rows × 4 columns</p>\n",
       "</div>"
      ],
      "text/plain": [
       "     billboard_1 billboard_2  Web_Counts  Data_counts\n",
       "0            Web         Web           0            0\n",
       "1            Web         Web           0            0\n",
       "2           Data        Data           2            2\n",
       "3           Data         Web           1            1\n",
       "4            Web         Web           0            0\n",
       "...          ...         ...         ...          ...\n",
       "9995         Web         Web           0            0\n",
       "9996        Data         Web           1            1\n",
       "9997         Web         Web           0            0\n",
       "9998         Web         Web           0            0\n",
       "9999        Data         Web           1            1\n",
       "\n",
       "[10000 rows x 4 columns]"
      ]
     },
     "execution_count": 47,
     "metadata": {},
     "output_type": "execute_result"
    }
   ],
   "source": [
    "cohorts[\"Data_counts\"] = cohorts.apply(count_web, axis=1)\n",
    "cohorts"
   ]
  },
  {
   "cell_type": "code",
   "execution_count": 48,
   "id": "0ffb38e1",
   "metadata": {},
   "outputs": [
    {
     "data": {
      "text/plain": [
       "0.0629"
      ]
     },
     "execution_count": 48,
     "metadata": {},
     "output_type": "execute_result"
    }
   ],
   "source": [
    "(cohorts.Data_counts == 2).mean()"
   ]
  },
  {
   "cell_type": "code",
   "execution_count": 49,
   "id": "abeec15b",
   "metadata": {},
   "outputs": [],
   "source": [
    "# Codeup students buy, on average, 3 poptart packages with a standard deviation of 1.5\n",
    "# a day from the snack vending machine. If on monday the machine is restocked with 17 poptart packages, \n",
    "# how likely is it that I will be able to buy some poptarts on Friday afternoon? \n",
    "# (Remember, if you have mean and standard deviation, use the np.random.normal)"
   ]
  },
  {
   "cell_type": "code",
   "execution_count": 55,
   "id": "a65c3543",
   "metadata": {},
   "outputs": [
    {
     "data": {
      "text/html": [
       "<div>\n",
       "<style scoped>\n",
       "    .dataframe tbody tr th:only-of-type {\n",
       "        vertical-align: middle;\n",
       "    }\n",
       "\n",
       "    .dataframe tbody tr th {\n",
       "        vertical-align: top;\n",
       "    }\n",
       "\n",
       "    .dataframe thead th {\n",
       "        text-align: right;\n",
       "    }\n",
       "</style>\n",
       "<table border=\"1\" class=\"dataframe\">\n",
       "  <thead>\n",
       "    <tr style=\"text-align: right;\">\n",
       "      <th></th>\n",
       "      <th>0</th>\n",
       "      <th>1</th>\n",
       "      <th>2</th>\n",
       "      <th>3</th>\n",
       "      <th>4</th>\n",
       "    </tr>\n",
       "  </thead>\n",
       "  <tbody>\n",
       "    <tr>\n",
       "      <th>0</th>\n",
       "      <td>5.539810</td>\n",
       "      <td>2.254008</td>\n",
       "      <td>0.361692</td>\n",
       "      <td>3.813584</td>\n",
       "      <td>0.713407</td>\n",
       "    </tr>\n",
       "    <tr>\n",
       "      <th>1</th>\n",
       "      <td>7.090607</td>\n",
       "      <td>3.474223</td>\n",
       "      <td>4.255589</td>\n",
       "      <td>1.284212</td>\n",
       "      <td>3.295398</td>\n",
       "    </tr>\n",
       "    <tr>\n",
       "      <th>2</th>\n",
       "      <td>4.090645</td>\n",
       "      <td>2.565645</td>\n",
       "      <td>4.943593</td>\n",
       "      <td>4.874376</td>\n",
       "      <td>5.263110</td>\n",
       "    </tr>\n",
       "    <tr>\n",
       "      <th>3</th>\n",
       "      <td>6.907632</td>\n",
       "      <td>1.340947</td>\n",
       "      <td>0.949638</td>\n",
       "      <td>3.175718</td>\n",
       "      <td>4.955617</td>\n",
       "    </tr>\n",
       "    <tr>\n",
       "      <th>4</th>\n",
       "      <td>0.388626</td>\n",
       "      <td>0.747842</td>\n",
       "      <td>2.843280</td>\n",
       "      <td>3.485616</td>\n",
       "      <td>2.380095</td>\n",
       "    </tr>\n",
       "    <tr>\n",
       "      <th>...</th>\n",
       "      <td>...</td>\n",
       "      <td>...</td>\n",
       "      <td>...</td>\n",
       "      <td>...</td>\n",
       "      <td>...</td>\n",
       "    </tr>\n",
       "    <tr>\n",
       "      <th>9995</th>\n",
       "      <td>4.747012</td>\n",
       "      <td>1.302705</td>\n",
       "      <td>6.742289</td>\n",
       "      <td>3.516151</td>\n",
       "      <td>2.446843</td>\n",
       "    </tr>\n",
       "    <tr>\n",
       "      <th>9996</th>\n",
       "      <td>0.985244</td>\n",
       "      <td>4.580780</td>\n",
       "      <td>4.206978</td>\n",
       "      <td>4.103466</td>\n",
       "      <td>1.748775</td>\n",
       "    </tr>\n",
       "    <tr>\n",
       "      <th>9997</th>\n",
       "      <td>2.356705</td>\n",
       "      <td>4.206803</td>\n",
       "      <td>3.441644</td>\n",
       "      <td>3.258140</td>\n",
       "      <td>0.200288</td>\n",
       "    </tr>\n",
       "    <tr>\n",
       "      <th>9998</th>\n",
       "      <td>2.752135</td>\n",
       "      <td>0.753780</td>\n",
       "      <td>6.604477</td>\n",
       "      <td>4.345175</td>\n",
       "      <td>3.594965</td>\n",
       "    </tr>\n",
       "    <tr>\n",
       "      <th>9999</th>\n",
       "      <td>2.333649</td>\n",
       "      <td>3.650210</td>\n",
       "      <td>5.042631</td>\n",
       "      <td>2.067433</td>\n",
       "      <td>3.590186</td>\n",
       "    </tr>\n",
       "  </tbody>\n",
       "</table>\n",
       "<p>10000 rows × 5 columns</p>\n",
       "</div>"
      ],
      "text/plain": [
       "             0         1         2         3         4\n",
       "0     5.539810  2.254008  0.361692  3.813584  0.713407\n",
       "1     7.090607  3.474223  4.255589  1.284212  3.295398\n",
       "2     4.090645  2.565645  4.943593  4.874376  5.263110\n",
       "3     6.907632  1.340947  0.949638  3.175718  4.955617\n",
       "4     0.388626  0.747842  2.843280  3.485616  2.380095\n",
       "...        ...       ...       ...       ...       ...\n",
       "9995  4.747012  1.302705  6.742289  3.516151  2.446843\n",
       "9996  0.985244  4.580780  4.206978  4.103466  1.748775\n",
       "9997  2.356705  4.206803  3.441644  3.258140  0.200288\n",
       "9998  2.752135  0.753780  6.604477  4.345175  3.594965\n",
       "9999  2.333649  3.650210  5.042631  2.067433  3.590186\n",
       "\n",
       "[10000 rows x 5 columns]"
      ]
     },
     "execution_count": 55,
     "metadata": {},
     "output_type": "execute_result"
    }
   ],
   "source": [
    "mean = 3\n",
    "std = 1.5\n",
    "\n",
    "n_trials = 10_000\n",
    "n_days = 5\n",
    "\n",
    "\n",
    "students = np.random.normal(mean, std, size = (n_trials, n_days, ))\n",
    "students = pd.DataFrame(students)\n",
    "students"
   ]
  },
  {
   "cell_type": "code",
   "execution_count": 56,
   "id": "61148982",
   "metadata": {},
   "outputs": [
    {
     "data": {
      "text/html": [
       "<div>\n",
       "<style scoped>\n",
       "    .dataframe tbody tr th:only-of-type {\n",
       "        vertical-align: middle;\n",
       "    }\n",
       "\n",
       "    .dataframe tbody tr th {\n",
       "        vertical-align: top;\n",
       "    }\n",
       "\n",
       "    .dataframe thead th {\n",
       "        text-align: right;\n",
       "    }\n",
       "</style>\n",
       "<table border=\"1\" class=\"dataframe\">\n",
       "  <thead>\n",
       "    <tr style=\"text-align: right;\">\n",
       "      <th></th>\n",
       "      <th>0</th>\n",
       "      <th>1</th>\n",
       "      <th>2</th>\n",
       "      <th>3</th>\n",
       "      <th>4</th>\n",
       "      <th>n_poptarts</th>\n",
       "    </tr>\n",
       "  </thead>\n",
       "  <tbody>\n",
       "    <tr>\n",
       "      <th>0</th>\n",
       "      <td>5.539810</td>\n",
       "      <td>2.254008</td>\n",
       "      <td>0.361692</td>\n",
       "      <td>3.813584</td>\n",
       "      <td>0.713407</td>\n",
       "      <td>12.682501</td>\n",
       "    </tr>\n",
       "    <tr>\n",
       "      <th>1</th>\n",
       "      <td>7.090607</td>\n",
       "      <td>3.474223</td>\n",
       "      <td>4.255589</td>\n",
       "      <td>1.284212</td>\n",
       "      <td>3.295398</td>\n",
       "      <td>19.400029</td>\n",
       "    </tr>\n",
       "    <tr>\n",
       "      <th>2</th>\n",
       "      <td>4.090645</td>\n",
       "      <td>2.565645</td>\n",
       "      <td>4.943593</td>\n",
       "      <td>4.874376</td>\n",
       "      <td>5.263110</td>\n",
       "      <td>21.737370</td>\n",
       "    </tr>\n",
       "    <tr>\n",
       "      <th>3</th>\n",
       "      <td>6.907632</td>\n",
       "      <td>1.340947</td>\n",
       "      <td>0.949638</td>\n",
       "      <td>3.175718</td>\n",
       "      <td>4.955617</td>\n",
       "      <td>17.329552</td>\n",
       "    </tr>\n",
       "    <tr>\n",
       "      <th>4</th>\n",
       "      <td>0.388626</td>\n",
       "      <td>0.747842</td>\n",
       "      <td>2.843280</td>\n",
       "      <td>3.485616</td>\n",
       "      <td>2.380095</td>\n",
       "      <td>9.845458</td>\n",
       "    </tr>\n",
       "    <tr>\n",
       "      <th>...</th>\n",
       "      <td>...</td>\n",
       "      <td>...</td>\n",
       "      <td>...</td>\n",
       "      <td>...</td>\n",
       "      <td>...</td>\n",
       "      <td>...</td>\n",
       "    </tr>\n",
       "    <tr>\n",
       "      <th>9995</th>\n",
       "      <td>4.747012</td>\n",
       "      <td>1.302705</td>\n",
       "      <td>6.742289</td>\n",
       "      <td>3.516151</td>\n",
       "      <td>2.446843</td>\n",
       "      <td>18.755001</td>\n",
       "    </tr>\n",
       "    <tr>\n",
       "      <th>9996</th>\n",
       "      <td>0.985244</td>\n",
       "      <td>4.580780</td>\n",
       "      <td>4.206978</td>\n",
       "      <td>4.103466</td>\n",
       "      <td>1.748775</td>\n",
       "      <td>15.625243</td>\n",
       "    </tr>\n",
       "    <tr>\n",
       "      <th>9997</th>\n",
       "      <td>2.356705</td>\n",
       "      <td>4.206803</td>\n",
       "      <td>3.441644</td>\n",
       "      <td>3.258140</td>\n",
       "      <td>0.200288</td>\n",
       "      <td>13.463580</td>\n",
       "    </tr>\n",
       "    <tr>\n",
       "      <th>9998</th>\n",
       "      <td>2.752135</td>\n",
       "      <td>0.753780</td>\n",
       "      <td>6.604477</td>\n",
       "      <td>4.345175</td>\n",
       "      <td>3.594965</td>\n",
       "      <td>18.050533</td>\n",
       "    </tr>\n",
       "    <tr>\n",
       "      <th>9999</th>\n",
       "      <td>2.333649</td>\n",
       "      <td>3.650210</td>\n",
       "      <td>5.042631</td>\n",
       "      <td>2.067433</td>\n",
       "      <td>3.590186</td>\n",
       "      <td>16.684109</td>\n",
       "    </tr>\n",
       "  </tbody>\n",
       "</table>\n",
       "<p>10000 rows × 6 columns</p>\n",
       "</div>"
      ],
      "text/plain": [
       "             0         1         2         3         4  n_poptarts\n",
       "0     5.539810  2.254008  0.361692  3.813584  0.713407   12.682501\n",
       "1     7.090607  3.474223  4.255589  1.284212  3.295398   19.400029\n",
       "2     4.090645  2.565645  4.943593  4.874376  5.263110   21.737370\n",
       "3     6.907632  1.340947  0.949638  3.175718  4.955617   17.329552\n",
       "4     0.388626  0.747842  2.843280  3.485616  2.380095    9.845458\n",
       "...        ...       ...       ...       ...       ...         ...\n",
       "9995  4.747012  1.302705  6.742289  3.516151  2.446843   18.755001\n",
       "9996  0.985244  4.580780  4.206978  4.103466  1.748775   15.625243\n",
       "9997  2.356705  4.206803  3.441644  3.258140  0.200288   13.463580\n",
       "9998  2.752135  0.753780  6.604477  4.345175  3.594965   18.050533\n",
       "9999  2.333649  3.650210  5.042631  2.067433  3.590186   16.684109\n",
       "\n",
       "[10000 rows x 6 columns]"
      ]
     },
     "execution_count": 56,
     "metadata": {},
     "output_type": "execute_result"
    }
   ],
   "source": [
    "students[\"n_poptarts\"] = students.sum(axis=1)\n",
    "students"
   ]
  },
  {
   "cell_type": "code",
   "execution_count": 57,
   "id": "84cc2af9",
   "metadata": {},
   "outputs": [
    {
     "data": {
      "text/plain": [
       "0.727"
      ]
     },
     "execution_count": 57,
     "metadata": {},
     "output_type": "execute_result"
    }
   ],
   "source": [
    "(students.n_poptarts < 17).mean()"
   ]
  },
  {
   "cell_type": "code",
   "execution_count": 58,
   "id": "9a0e0eda",
   "metadata": {},
   "outputs": [],
   "source": [
    "#\n",
    "#Compare Heights\n",
    "\n",
    "#Men have an average height of 178 cm and standard deviation of 8cm.\n",
    "#Women have a mean of 170, sd = 6cm.\n",
    "#Since you have means and standard deviations, you can use np.random.normal to generate observations.\n",
    "#If a man and woman are chosen at random, P(woman taller than man)?"
   ]
  },
  {
   "cell_type": "code",
   "execution_count": 66,
   "id": "3a098d49",
   "metadata": {},
   "outputs": [
    {
     "data": {
      "text/plain": [
       "0.2145"
      ]
     },
     "execution_count": 66,
     "metadata": {},
     "output_type": "execute_result"
    }
   ],
   "source": [
    "mean_men = 178\n",
    "std_men = 8\n",
    "\n",
    "mean_women = 170\n",
    "std_women = 6\n",
    "\n",
    "men = np.random.normal(mean_men, std_men, 10_000)\n",
    "women = women = np.random.normal(mean_women, std_women, 10_000)\n",
    "\n",
    "(women > men).mean()"
   ]
  },
  {
   "cell_type": "code",
   "execution_count": 68,
   "id": "0b1c40ab",
   "metadata": {},
   "outputs": [],
   "source": [
    "# When installing anaconda on a student's computer, there's a 1 in 250 chance that the \n",
    "# download is corrupted and the installation fails. \n",
    "# What are the odds that after having 50 students download anaconda, \n",
    "# no one has an installation issue? 100 students?"
   ]
  },
  {
   "cell_type": "code",
   "execution_count": 69,
   "id": "924a5b26",
   "metadata": {},
   "outputs": [
    {
     "data": {
      "text/plain": [
       "0.004"
      ]
     },
     "execution_count": 69,
     "metadata": {},
     "output_type": "execute_result"
    }
   ],
   "source": [
    "1/250"
   ]
  },
  {
   "cell_type": "code",
   "execution_count": 83,
   "id": "792cd345",
   "metadata": {},
   "outputs": [
    {
     "data": {
      "text/plain": [
       "0.0"
      ]
     },
     "execution_count": 83,
     "metadata": {},
     "output_type": "execute_result"
    }
   ],
   "source": [
    "install = np.random.choice([0, 1], size= 50, p=[0.004, 0.996])\n",
    "\n",
    "(install == 0).mean()"
   ]
  },
  {
   "cell_type": "code",
   "execution_count": 82,
   "id": "e985cd06",
   "metadata": {},
   "outputs": [
    {
     "data": {
      "text/plain": [
       "0.0"
      ]
     },
     "execution_count": 82,
     "metadata": {},
     "output_type": "execute_result"
    }
   ],
   "source": [
    "install2 = np.random.choice([0, 1], size= 100, p=[0.004, 0.996])\n",
    "\n",
    "(install2 == 0).mean()"
   ]
  },
  {
   "cell_type": "code",
   "execution_count": null,
   "id": "d7611563",
   "metadata": {},
   "outputs": [],
   "source": [
    "# What is the probability that we observe an installation issue within the first 150 students that download anaconda?"
   ]
  },
  {
   "cell_type": "code",
   "execution_count": 84,
   "id": "2bb8446a",
   "metadata": {},
   "outputs": [
    {
     "data": {
      "text/plain": [
       "0.006666666666666667"
      ]
     },
     "execution_count": 84,
     "metadata": {},
     "output_type": "execute_result"
    }
   ],
   "source": [
    "install3 = np.random.choice([0, 1], size= 150, p=[0.004, 0.996])\n",
    "\n",
    "(install3 == 0).mean()"
   ]
  },
  {
   "cell_type": "code",
   "execution_count": null,
   "id": "257cd05e",
   "metadata": {},
   "outputs": [],
   "source": [
    "#How likely is it that 450 students all download anaconda without an issue?"
   ]
  },
  {
   "cell_type": "code",
   "execution_count": 76,
   "id": "0ede59f0",
   "metadata": {},
   "outputs": [
    {
     "data": {
      "text/plain": [
       "0.0044444444444444444"
      ]
     },
     "execution_count": 76,
     "metadata": {},
     "output_type": "execute_result"
    }
   ],
   "source": [
    "install4 = np.random.choice([0, 1], size= 450, p=[0.004, 0.996])\n",
    "\n",
    "(install4 == 0).mean()"
   ]
  },
  {
   "cell_type": "code",
   "execution_count": 77,
   "id": "1da6a597",
   "metadata": {},
   "outputs": [],
   "source": [
    "# There's a 70% chance on any given day that there will be at least one food truck at Travis Park. \n",
    "# However, you haven't seen a food truck there in 3 days. How unlikely is this?\n",
    "\n",
    "# How likely is it that a food truck will show up sometime this week?"
   ]
  },
  {
   "cell_type": "code",
   "execution_count": 97,
   "id": "61b9086a",
   "metadata": {},
   "outputs": [
    {
     "data": {
      "text/plain": [
       "array([[0, 1, 1, 1, 0],\n",
       "       [1, 0, 1, 1, 0],\n",
       "       [1, 0, 1, 1, 1],\n",
       "       ...,\n",
       "       [1, 1, 1, 1, 1],\n",
       "       [0, 0, 1, 1, 1],\n",
       "       [1, 1, 1, 0, 1]])"
      ]
     },
     "execution_count": 97,
     "metadata": {},
     "output_type": "execute_result"
    }
   ],
   "source": [
    "n_trials = nrows = 10_000\n",
    "n_dats = ncols = 5\n",
    "\n",
    "\n",
    "foodtruck = np.random.choice([0,1], n_trials * n_days, p=[.3, .7]).reshape(nrows, ncols)\n",
    "foodtruck"
   ]
  },
  {
   "cell_type": "code",
   "execution_count": 104,
   "id": "3034942a",
   "metadata": {},
   "outputs": [
    {
     "data": {
      "text/html": [
       "<div>\n",
       "<style scoped>\n",
       "    .dataframe tbody tr th:only-of-type {\n",
       "        vertical-align: middle;\n",
       "    }\n",
       "\n",
       "    .dataframe tbody tr th {\n",
       "        vertical-align: top;\n",
       "    }\n",
       "\n",
       "    .dataframe thead th {\n",
       "        text-align: right;\n",
       "    }\n",
       "</style>\n",
       "<table border=\"1\" class=\"dataframe\">\n",
       "  <thead>\n",
       "    <tr style=\"text-align: right;\">\n",
       "      <th></th>\n",
       "      <th>0</th>\n",
       "      <th>1</th>\n",
       "      <th>2</th>\n",
       "      <th>3</th>\n",
       "      <th>4</th>\n",
       "    </tr>\n",
       "  </thead>\n",
       "  <tbody>\n",
       "    <tr>\n",
       "      <th>0</th>\n",
       "      <td>0</td>\n",
       "      <td>1</td>\n",
       "      <td>1</td>\n",
       "      <td>1</td>\n",
       "      <td>0</td>\n",
       "    </tr>\n",
       "    <tr>\n",
       "      <th>1</th>\n",
       "      <td>1</td>\n",
       "      <td>0</td>\n",
       "      <td>1</td>\n",
       "      <td>1</td>\n",
       "      <td>0</td>\n",
       "    </tr>\n",
       "    <tr>\n",
       "      <th>2</th>\n",
       "      <td>1</td>\n",
       "      <td>0</td>\n",
       "      <td>1</td>\n",
       "      <td>1</td>\n",
       "      <td>1</td>\n",
       "    </tr>\n",
       "    <tr>\n",
       "      <th>3</th>\n",
       "      <td>0</td>\n",
       "      <td>0</td>\n",
       "      <td>0</td>\n",
       "      <td>1</td>\n",
       "      <td>1</td>\n",
       "    </tr>\n",
       "    <tr>\n",
       "      <th>4</th>\n",
       "      <td>1</td>\n",
       "      <td>0</td>\n",
       "      <td>0</td>\n",
       "      <td>1</td>\n",
       "      <td>1</td>\n",
       "    </tr>\n",
       "  </tbody>\n",
       "</table>\n",
       "</div>"
      ],
      "text/plain": [
       "   0  1  2  3  4\n",
       "0  0  1  1  1  0\n",
       "1  1  0  1  1  0\n",
       "2  1  0  1  1  1\n",
       "3  0  0  0  1  1\n",
       "4  1  0  0  1  1"
      ]
     },
     "execution_count": 104,
     "metadata": {},
     "output_type": "execute_result"
    }
   ],
   "source": [
    "foodtrucks = pd.DataFrame(foodtruck)\n",
    "foodtrucks.head()"
   ]
  },
  {
   "cell_type": "code",
   "execution_count": 108,
   "id": "569ef638",
   "metadata": {},
   "outputs": [
    {
     "data": {
      "text/plain": [
       "0.2"
      ]
     },
     "execution_count": 108,
     "metadata": {},
     "output_type": "execute_result"
    }
   ],
   "source": [
    "((foodtrucks[:2]).sum() == 0).mean()"
   ]
  },
  {
   "cell_type": "code",
   "execution_count": 101,
   "id": "1c89878a",
   "metadata": {},
   "outputs": [
    {
     "data": {
      "text/plain": [
       "array([3, 3, 4, ..., 5, 3, 4])"
      ]
     },
     "execution_count": 101,
     "metadata": {},
     "output_type": "execute_result"
    }
   ],
   "source": [
    "foodday = foodtruck.sum(axis=1)\n",
    "foodday"
   ]
  },
  {
   "cell_type": "code",
   "execution_count": 109,
   "id": "60d7d7de",
   "metadata": {},
   "outputs": [
    {
     "data": {
      "text/plain": [
       "0.3129"
      ]
     },
     "execution_count": 109,
     "metadata": {},
     "output_type": "execute_result"
    }
   ],
   "source": [
    "(foodday == 3).mean()"
   ]
  },
  {
   "cell_type": "code",
   "execution_count": 103,
   "id": "78062613",
   "metadata": {},
   "outputs": [],
   "source": [
    "# If 23 people are in the same room, what are the odds that two of them share a birthday? \n",
    "# What if it's 20 people? 40?"
   ]
  },
  {
   "cell_type": "code",
   "execution_count": null,
   "id": "7a8a954c",
   "metadata": {},
   "outputs": [],
   "source": []
  }
 ],
 "metadata": {
  "kernelspec": {
   "display_name": "Python 3",
   "language": "python",
   "name": "python3"
  },
  "language_info": {
   "codemirror_mode": {
    "name": "ipython",
    "version": 3
   },
   "file_extension": ".py",
   "mimetype": "text/x-python",
   "name": "python",
   "nbconvert_exporter": "python",
   "pygments_lexer": "ipython3",
   "version": "3.8.8"
  }
 },
 "nbformat": 4,
 "nbformat_minor": 5
}
