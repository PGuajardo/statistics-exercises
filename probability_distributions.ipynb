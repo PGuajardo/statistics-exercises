{
 "cells": [
  {
   "cell_type": "markdown",
   "id": "c50fa595",
   "metadata": {},
   "source": [
    "\n",
    "Hint If you're looking at this exercise and wondering \"How do I get pandas to talk the database, again?\", remember that you'll need 3 things: your .gitignore, your env.py, and to use pd.read_sql."
   ]
  },
  {
   "cell_type": "code",
   "execution_count": 2,
   "id": "1e811a46",
   "metadata": {},
   "outputs": [],
   "source": [
    "import matplotlib.pyplot as plt\n",
    "import numpy as np\n",
    "import pandas as pd\n",
    "from scipy import stats"
   ]
  },
  {
   "cell_type": "code",
   "execution_count": null,
   "id": "538ed8ae",
   "metadata": {},
   "outputs": [],
   "source": [
    "#A bank found that the average number of cars waiting during the noon hour at a drive-up window \n",
    "#follows a Poisson distribution with a mean of 2 cars. Make a chart of this distribution and answer \n",
    "#these questions concerning the probability of cars waiting at the drive-up window."
   ]
  },
  {
   "cell_type": "code",
   "execution_count": 9,
   "id": "3180561e",
   "metadata": {},
   "outputs": [
    {
     "data": {
      "image/png": "[encoded data removed]",
      "text/plain": [
       "<Figure size 432x288 with 1 Axes>"
      ]
     },
     "metadata": {
      "needs_background": "light"
     },
     "output_type": "display_data"
    }
   ],
   "source": [
    "mean = 2\n",
    "\n",
    "\n",
    "x = np.arange(0,12)\n",
    "y = stats.poisson(mean).pmf(x)\n",
    "\n",
    "plt.bar(x,y)\n",
    "plt.xlabel('No of cars per hour')\n",
    "plt.ylabel('P(X)')\n",
    "plt.title('Poisson distribution $λ = 2$');"
   ]
  },
  {
   "cell_type": "code",
   "execution_count": null,
   "id": "840c6501",
   "metadata": {},
   "outputs": [],
   "source": [
    "#What is the probability that no cars drive up in the noon hour?"
   ]
  },
  {
   "cell_type": "code",
   "execution_count": 10,
   "id": "8a18ddad",
   "metadata": {},
   "outputs": [
    {
     "data": {
      "text/plain": [
       "0.1353352832366127"
      ]
     },
     "execution_count": 10,
     "metadata": {},
     "output_type": "execute_result"
    }
   ],
   "source": [
    "stats.poisson(mean).pmf(0)"
   ]
  },
  {
   "cell_type": "code",
   "execution_count": null,
   "id": "585859c0",
   "metadata": {},
   "outputs": [],
   "source": [
    "#What is the probability that 3 or more cars come through the drive through?"
   ]
  },
  {
   "cell_type": "code",
   "execution_count": 11,
   "id": "06b2278c",
   "metadata": {},
   "outputs": [
    {
     "data": {
      "text/plain": [
       "0.32332358381693654"
      ]
     },
     "execution_count": 11,
     "metadata": {},
     "output_type": "execute_result"
    }
   ],
   "source": [
    "stats.poisson(mean).sf(2)"
   ]
  },
  {
   "cell_type": "code",
   "execution_count": null,
   "id": "b1984747",
   "metadata": {},
   "outputs": [],
   "source": [
    "#How likely is it that the drive through gets at least 1 car?"
   ]
  },
  {
   "cell_type": "code",
   "execution_count": 10,
   "id": "dba8f695",
   "metadata": {},
   "outputs": [
    {
     "data": {
      "text/plain": [
       "0.8646647167633873"
      ]
     },
     "execution_count": 10,
     "metadata": {},
     "output_type": "execute_result"
    }
   ],
   "source": [
    "stats.poisson(mean).sf(0)"
   ]
  },
  {
   "cell_type": "code",
   "execution_count": null,
   "id": "0863d19e",
   "metadata": {},
   "outputs": [],
   "source": [
    "# Grades of State University graduates are normally distributed with a mean of 3.0 and \n",
    "# a standard deviation of .3. Calculate the following:\n",
    "\n",
    "\n",
    "\n",
    "\n",
    "# Would a student with a 2.8 grade point average qualify for this scholarship?\n",
    "# If I have a GPA of 3.5, what percentile am I in?"
   ]
  },
  {
   "cell_type": "code",
   "execution_count": 11,
   "id": "aa0a96fa",
   "metadata": {},
   "outputs": [
    {
     "data": {
      "text/plain": [
       "<scipy.stats._distn_infrastructure.rv_frozen at 0x7faf52f90a90>"
      ]
     },
     "execution_count": 11,
     "metadata": {},
     "output_type": "execute_result"
    }
   ],
   "source": [
    "mean = 3.0\n",
    "std_dev = .3\n",
    "\n",
    "grade = stats.norm(mean, std_dev)\n",
    "grade"
   ]
  },
  {
   "cell_type": "code",
   "execution_count": null,
   "id": "5dc9220f",
   "metadata": {},
   "outputs": [],
   "source": [
    "# What grade point average is required to be in the top 5% of the graduating class?"
   ]
  },
  {
   "cell_type": "code",
   "execution_count": 16,
   "id": "f61a591c",
   "metadata": {},
   "outputs": [
    {
     "data": {
      "text/plain": [
       "3.4934560880854417"
      ]
     },
     "execution_count": 16,
     "metadata": {},
     "output_type": "execute_result"
    }
   ],
   "source": [
    "grade.isf(.05)"
   ]
  },
  {
   "cell_type": "code",
   "execution_count": null,
   "id": "ec57655d",
   "metadata": {},
   "outputs": [],
   "source": [
    "# What GPA constitutes the bottom 15% of the class?"
   ]
  },
  {
   "cell_type": "code",
   "execution_count": 40,
   "id": "37904185",
   "metadata": {},
   "outputs": [
    {
     "data": {
      "text/plain": [
       "2.689069983151863"
      ]
     },
     "execution_count": 40,
     "metadata": {},
     "output_type": "execute_result"
    }
   ],
   "source": [
    "grade.ppf(.15)"
   ]
  },
  {
   "cell_type": "code",
   "execution_count": null,
   "id": "a5c973e4",
   "metadata": {},
   "outputs": [],
   "source": [
    "# An eccentric alumnus left scholarship money for students in the third decile from the bottom of their class. \n",
    "# Determine the range of the third decile. "
   ]
  },
  {
   "cell_type": "code",
   "execution_count": 12,
   "id": "5ff9aa86",
   "metadata": {},
   "outputs": [
    {
     "data": {
      "text/plain": [
       "array([2.74751363, 2.84267985])"
      ]
     },
     "execution_count": 12,
     "metadata": {},
     "output_type": "execute_result"
    }
   ],
   "source": [
    "grade.ppf([.2, .3])"
   ]
  },
  {
   "cell_type": "code",
   "execution_count": 53,
   "id": "28f1e87b",
   "metadata": {},
   "outputs": [],
   "source": [
    "# 2.8 would meet range and would qualify"
   ]
  },
  {
   "cell_type": "code",
   "execution_count": 13,
   "id": "93476165",
   "metadata": {},
   "outputs": [
    {
     "data": {
      "text/plain": [
       "0.9522096477271853"
      ]
     },
     "execution_count": 13,
     "metadata": {},
     "output_type": "execute_result"
    }
   ],
   "source": [
    "grade.cdf(3.5)"
   ]
  },
  {
   "cell_type": "code",
   "execution_count": 43,
   "id": "cb70cff0",
   "metadata": {},
   "outputs": [
    {
     "data": {
      "image/png": "[encoded data removed]",
      "text/plain": [
       "<Figure size 432x288 with 1 Axes>"
      ]
     },
     "metadata": {
      "needs_background": "light"
     },
     "output_type": "display_data"
    }
   ],
   "source": [
    "x = np.arange(1,5)\n",
    "y = stats.norm(mean, std_dev).pdf(x)\n",
    "\n",
    "plt.bar(x,y)\n",
    "plt.xlabel('No of Grade score')\n",
    "plt.ylabel('P(X)')\n",
    "plt.title('Norm distribution $λ = 1$');"
   ]
  },
  {
   "cell_type": "code",
   "execution_count": null,
   "id": "6509547e",
   "metadata": {},
   "outputs": [],
   "source": [
    "# A marketing website has an average click-through rate of 2%. \n",
    "#One day they observe 4326 visitors and 97 click-throughs. \n",
    "#How likely is it that this many people or more click through?"
   ]
  },
  {
   "cell_type": "code",
   "execution_count": 56,
   "id": "703328e7",
   "metadata": {},
   "outputs": [
    {
     "data": {
      "text/plain": [
       "0.1397582363130086"
      ]
     },
     "execution_count": 56,
     "metadata": {},
     "output_type": "execute_result"
    }
   ],
   "source": [
    "n_trials = 4326\n",
    "p = .02\n",
    "\n",
    "\n",
    "stats.binom(n_trials, p).sf(96)"
   ]
  },
  {
   "cell_type": "code",
   "execution_count": null,
   "id": "65012ee5",
   "metadata": {},
   "outputs": [],
   "source": [
    "#You are working on some statistics homework consisting of 100 questions where all \n",
    "#of the answers are a probability rounded to the hundreths place. \n",
    "#Looking to save time, you put down random probabilities as the answer to each question.\n",
    "\n",
    "#What is the probability that at least one of your first 60 answers is correct?"
   ]
  },
  {
   "cell_type": "code",
   "execution_count": 108,
   "id": "07f5032a",
   "metadata": {},
   "outputs": [
    {
     "data": {
      "text/plain": [
       "0.953930201013048"
      ]
     },
     "execution_count": 108,
     "metadata": {},
     "output_type": "execute_result"
    }
   ],
   "source": [
    "trials = 60\n",
    "p = .05\n",
    "\n",
    "stats.binom(trials, p).sf(0)"
   ]
  },
  {
   "cell_type": "code",
   "execution_count": null,
   "id": "1b28575c",
   "metadata": {},
   "outputs": [],
   "source": [
    "#The codeup staff tends to get upset when the student break area is not cleaned up.\n",
    "#Suppose that there's a 3% chance that any one student cleans the break area when they visit it, \n",
    "#and, on any given day, about 90% of the 3 active cohorts of 22 students visit the break area. \n",
    "#How likely is it that the break area gets cleaned up each day? How likely is it that it goes \n",
    "#two days without getting cleaned up? All week?"
   ]
  },
  {
   "cell_type": "code",
   "execution_count": 60,
   "id": "dfa5b106",
   "metadata": {},
   "outputs": [],
   "source": [
    "#prob = .03\n",
    "#cohort = 66"
   ]
  },
  {
   "cell_type": "code",
   "execution_count": 94,
   "id": "0ce98505",
   "metadata": {},
   "outputs": [],
   "source": [
    "#stats.binom(cohort, prob).pmf(60)"
   ]
  },
  {
   "cell_type": "code",
   "execution_count": 95,
   "id": "b5b543e9",
   "metadata": {},
   "outputs": [],
   "source": [
    "# prob = .03\n",
    "#cohort2 = 132"
   ]
  },
  {
   "cell_type": "code",
   "execution_count": 96,
   "id": "9e50be85",
   "metadata": {},
   "outputs": [],
   "source": [
    "#stats.binom(cohort2, prob).pmf(120)"
   ]
  },
  {
   "cell_type": "code",
   "execution_count": 109,
   "id": "7fd1d6b6",
   "metadata": {},
   "outputs": [
    {
     "data": {
      "text/plain": [
       "0.8391933309784234"
      ]
     },
     "execution_count": 109,
     "metadata": {},
     "output_type": "execute_result"
    }
   ],
   "source": [
    "stats.binom(60, .03).sf(0)"
   ]
  },
  {
   "cell_type": "code",
   "execution_count": 111,
   "id": "0232ae27",
   "metadata": {},
   "outputs": [
    {
     "data": {
      "text/plain": [
       "0.025858784801814978"
      ]
     },
     "execution_count": 111,
     "metadata": {},
     "output_type": "execute_result"
    }
   ],
   "source": [
    "stats.binom(120, .03).pmf(0)"
   ]
  },
  {
   "cell_type": "code",
   "execution_count": 112,
   "id": "1455bb42",
   "metadata": {},
   "outputs": [
    {
     "data": {
      "text/plain": [
       "0.00010752768104907677"
      ]
     },
     "execution_count": 112,
     "metadata": {},
     "output_type": "execute_result"
    }
   ],
   "source": [
    "stats.binom(300, .03).pmf(0)"
   ]
  },
  {
   "cell_type": "code",
   "execution_count": null,
   "id": "503ce21d",
   "metadata": {},
   "outputs": [],
   "source": [
    "#You want to get lunch at La Panaderia, but notice that the line is usually very long at lunchtime.\n",
    "#After several weeks of careful observation, you notice that the average number of people in \n",
    "#line when your lunch break starts is normally distributed with a mean of 15 and standard deviation of 3.\n",
    "#If it takes 2 minutes for each person to order, and 10 minutes from ordering to getting your food, \n",
    "#what is the likelihood that you have at least 15 minutes left to eat your food before you have to go back to class? \n",
    "#Assume you have one hour for lunch, and ignore travel time to and from La Panaderia."
   ]
  },
  {
   "cell_type": "code",
   "execution_count": 113,
   "id": "950efc7e",
   "metadata": {},
   "outputs": [
    {
     "data": {
      "text/plain": [
       "0.6914624612740131"
      ]
     },
     "execution_count": 113,
     "metadata": {},
     "output_type": "execute_result"
    }
   ],
   "source": [
    "mean = 15\n",
    "std_dev = 3 # Norm\n",
    "\n",
    "stats.norm(mean, std_dev).cdf(16.5)"
   ]
  },
  {
   "cell_type": "code",
   "execution_count": null,
   "id": "0e461af9",
   "metadata": {},
   "outputs": [],
   "source": [
    "#Connect to the employees database and find the average salary of current employees, \n",
    "#along with the standard deviation. For the following questions, calculate the answer based on\n",
    "#modeling the employees salaries with a normal distribution defined by the calculated mean and \n",
    "#standard deviation then compare this answer to the actual values present in the salaries dataset.\n",
    "\n",
    "#What percent of employees earn less than 60,000?\n",
    "#What percent of employees earn more than 95,000?\n",
    "#What percent of employees earn between 65,000 and 80,000?\n",
    "#What do the top 5% of employees make?"
   ]
  },
  {
   "cell_type": "code",
   "execution_count": 3,
   "id": "474e6c85",
   "metadata": {},
   "outputs": [],
   "source": [
    "mean = 63810.74\n",
    "std_dev = 16904.89"
   ]
  },
  {
   "cell_type": "code",
   "execution_count": 2,
   "id": "1b4a86bc",
   "metadata": {},
   "outputs": [
    {
     "data": {
      "image/png": "[encoded data removed]",
      "text/plain": [
       "<Figure size 432x288 with 1 Axes>"
      ]
     },
     "metadata": {
      "needs_background": "light"
     },
     "output_type": "display_data"
    }
   ],
   "source": [
    "mean = 63810.74\n",
    "std_dev = 16904.89\n",
    "\n",
    "x = np.arange(0,158220)\n",
    "y = stats.norm(mean, std_dev).pdf(x)\n",
    "\n",
    "plt.bar(x,y)\n",
    "plt.xlabel('No of salaries')\n",
    "plt.ylabel('P(X)')\n",
    "plt.title('Norm distribution $λ = 63810.74$');"
   ]
  },
  {
   "cell_type": "code",
   "execution_count": 3,
   "id": "442d609a",
   "metadata": {},
   "outputs": [
    {
     "data": {
      "text/plain": [
       "0.4108253638262491"
      ]
     },
     "execution_count": 3,
     "metadata": {},
     "output_type": "execute_result"
    }
   ],
   "source": [
    "stats.norm(mean, std_dev).cdf(60_000)"
   ]
  },
  {
   "cell_type": "code",
   "execution_count": 4,
   "id": "1fdf704b",
   "metadata": {},
   "outputs": [],
   "source": [
    "#What percent of employees earn more than 95,000?"
   ]
  },
  {
   "cell_type": "code",
   "execution_count": 20,
   "id": "1d20f049",
   "metadata": {},
   "outputs": [
    {
     "data": {
      "text/plain": [
       "0.9674801032020446"
      ]
     },
     "execution_count": 20,
     "metadata": {},
     "output_type": "execute_result"
    }
   ],
   "source": [
    "stats.norm(mean, std_dev).cdf(95_000)"
   ]
  },
  {
   "cell_type": "code",
   "execution_count": 6,
   "id": "526243e8",
   "metadata": {},
   "outputs": [],
   "source": [
    "#What percent of employees earn between 65,000 and 80,000?"
   ]
  },
  {
   "cell_type": "code",
   "execution_count": 18,
   "id": "91cb0ea8",
   "metadata": {},
   "outputs": [
    {
     "data": {
      "text/plain": [
       "0.4719810610815766"
      ]
     },
     "execution_count": 18,
     "metadata": {},
     "output_type": "execute_result"
    }
   ],
   "source": [
    "stats.norm(mean, std_dev).sf(64_999)"
   ]
  },
  {
   "cell_type": "code",
   "execution_count": 6,
   "id": "07b2d2c2",
   "metadata": {},
   "outputs": [
    {
     "data": {
      "text/plain": [
       "0.16913020051515898"
      ]
     },
     "execution_count": 6,
     "metadata": {},
     "output_type": "execute_result"
    }
   ],
   "source": [
    "stats.norm(mean, std_dev).sf(79_999)"
   ]
  },
  {
   "cell_type": "code",
   "execution_count": 7,
   "id": "bc4347af",
   "metadata": {},
   "outputs": [
    {
     "data": {
      "text/plain": [
       "0.30285086056641763"
      ]
     },
     "execution_count": 7,
     "metadata": {},
     "output_type": "execute_result"
    }
   ],
   "source": [
    "0.4719810610815766 - 0.16913020051515898"
   ]
  },
  {
   "cell_type": "code",
   "execution_count": 13,
   "id": "f9f71f64",
   "metadata": {},
   "outputs": [],
   "source": [
    "#What do the top 5% of employees make?"
   ]
  },
  {
   "cell_type": "code",
   "execution_count": 14,
   "id": "25f139f4",
   "metadata": {},
   "outputs": [
    {
     "data": {
      "text/plain": [
       "91616.80962971569"
      ]
     },
     "execution_count": 14,
     "metadata": {},
     "output_type": "execute_result"
    }
   ],
   "source": [
    "stats.norm(mean, std_dev).isf(.05)"
   ]
  },
  {
   "cell_type": "code",
   "execution_count": null,
   "id": "481c04d2",
   "metadata": {},
   "outputs": [],
   "source": []
  }
 ],
 "metadata": {
  "kernelspec": {
   "display_name": "Python 3",
   "language": "python",
   "name": "python3"
  },
  "language_info": {
   "codemirror_mode": {
    "name": "ipython",
    "version": 3
   },
   "file_extension": ".py",
   "mimetype": "text/x-python",
   "name": "python",
   "nbconvert_exporter": "python",
   "pygments_lexer": "ipython3",
   "version": "3.8.8"
  }
 },
 "nbformat": 4,
 "nbformat_minor": 5
}
