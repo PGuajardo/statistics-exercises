{
 "cells": [
  {
   "cell_type": "code",
   "execution_count": null,
   "id": "c20e5cb3",
   "metadata": {},
   "outputs": [],
   "source": [
    "Has the network latency gone up since we switched internet service providers?\n",
    "Is the website redesign any good?\n",
    "Is our television ad driving more sales?"
   ]
  },
  {
   "cell_type": "markdown",
   "id": "2b788429",
   "metadata": {},
   "source": [
    "# Reworded:\n",
    "\n",
    "1.) Are certain internet providers more or less likely to cause latency?\n",
    "\n",
    "2.) Is the website redesign more or less likely to gain viewership?\n",
    "\n",
    "3.) Is the television AD more or less likely to gain sales?"
   ]
  },
  {
   "cell_type": "markdown",
   "id": "86e25eab",
   "metadata": {},
   "source": [
    "# Null and Alternative:\n",
    "\n",
    "1)  There are no difference in latency between internet service providers.\n",
    "\n",
    "    There is a differnce in latency between service proivders.\n",
    "\n",
    "\n",
    "2)  The website redesign is not likely to gain viewership\n",
    "\n",
    "    The website redesign is likely to gain viewership\n",
    "\n",
    "\n",
    "3)  The television AD is not likely to gain sales.\n",
    "\n",
    "    The television AD is likely to gain sales."
   ]
  },
  {
   "cell_type": "markdown",
   "id": "3d487bb4",
   "metadata": {},
   "source": [
    "# Hypothesis Testing Errors:\n",
    "\n",
    "\n",
    "                    Ho                                  Ha\n",
    "    Accept Ho     There are no difference in latency. |  Says there a differnce in latency, but there is change\n",
    "\n",
    "\n",
    "\n",
    "    Reject Ho     Says there is change but there is no change.  |    There is no change in latency. "
   ]
  },
  {
   "cell_type": "markdown",
   "id": "54588d17",
   "metadata": {},
   "source": [
    "/////2) The website redesign is not likely to gain viewership"
   ]
  },
  {
   "cell_type": "markdown",
   "id": "b60d6f05",
   "metadata": {},
   "source": [
    "\n",
    "                    Ho                                  Ha\n",
    "    Accept Ho     There are no viewership gain. |  Says there are no viewership gain, but there is a gain in viewership\n",
    "\n",
    "\n",
    "\n",
    "    Reject Ho     Says there is viewership gain, but there is no change at all  |    There is a viewership gain"
   ]
  },
  {
   "cell_type": "code",
   "execution_count": null,
   "id": "e44a9161",
   "metadata": {},
   "outputs": [],
   "source": [
    "\n",
    "                    Ho                                  Ha\n",
    "    Accept Ho     There are no AD sales. |  Says there are no AD sales gain, but there is a gain in viewership\n",
    "\n",
    "\n",
    "\n",
    "    Reject Ho     Says there is viewership gain, but there is no change at all  |    There is a viewership gain"
   ]
  }
 ],
 "metadata": {
  "kernelspec": {
   "display_name": "Python 3",
   "language": "python",
   "name": "python3"
  },
  "language_info": {
   "codemirror_mode": {
    "name": "ipython",
    "version": 3
   },
   "file_extension": ".py",
   "mimetype": "text/x-python",
   "name": "python",
   "nbconvert_exporter": "python",
   "pygments_lexer": "ipython3",
   "version": "3.8.8"
  }
 },
 "nbformat": 4,
 "nbformat_minor": 5
}
